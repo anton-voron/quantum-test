{
 "cells": [
  {
   "cell_type": "code",
   "execution_count": 10,
   "metadata": {},
   "outputs": [
    {
     "name": "stdout",
     "output_type": "stream",
     "text": [
      "2\n",
      "3\n",
      "2\n"
     ]
    }
   ],
   "source": [
    "import numpy as np\n",
    "\n",
    "def num_islands(matrix):\n",
    "    if not matrix:\n",
    "        return 0\n",
    "\n",
    "    matrix = np.array(matrix)\n",
    "    rows, cols = matrix.shape\n",
    "    visited = np.zeros_like(matrix, dtype=bool)\n",
    "\n",
    "    def trip(row, col):\n",
    "        stack = [(row, col)]\n",
    "        while stack:\n",
    "            i, j = stack.pop()\n",
    "            if 0 <= i < rows and 0 <= j < cols and not visited[i, j] and matrix[i, j] == '1':\n",
    "                visited[i, j] = True\n",
    "                # Direction vectors for adjacent cells (up, down, left, right)\n",
    "                directions = [(-1, 0), (1, 0), (0, -1), (0, 1)]\n",
    "                for dr, dc in directions:\n",
    "                    stack.append((i + dr, j + dc))\n",
    "\n",
    "    island_count = 0\n",
    "    for row in range(rows):\n",
    "        for col in range(cols):\n",
    "            if matrix[row, col] == '1' and not visited[row, col]:\n",
    "                trip(row, col)\n",
    "                island_count += 1\n",
    "\n",
    "    return island_count\n",
    "\n",
    "matrix1 = [\n",
    "    ['0', '1', '0'],\n",
    "    ['0', '0', '0'],\n",
    "    ['0', '1', '1']\n",
    "]\n",
    "print(num_islands(matrix1))  # Output: 2\n",
    "\n",
    "matrix2 = [\n",
    "    ['0', '0', '0', '1'],\n",
    "    ['0', '0', '1', '0'],\n",
    "    ['0', '1', '0', '0']\n",
    "]\n",
    "print(num_islands(matrix2))  # Output: 3\n",
    "\n",
    "matrix3 = [\n",
    "    ['0', '0', '0', '1'],\n",
    "    ['0', '0', '1', '1'],\n",
    "    ['0', '1', '0', '1']\n",
    "]\n",
    "print(num_islands(matrix3))  # Output: 2\n"
   ]
  }
 ],
 "metadata": {
  "kernelspec": {
   "display_name": "Python 3",
   "language": "python",
   "name": "python3"
  },
  "language_info": {
   "codemirror_mode": {
    "name": "ipython",
    "version": 3
   },
   "file_extension": ".py",
   "mimetype": "text/x-python",
   "name": "python",
   "nbconvert_exporter": "python",
   "pygments_lexer": "ipython3",
   "version": "3.11.7"
  }
 },
 "nbformat": 4,
 "nbformat_minor": 2
}
