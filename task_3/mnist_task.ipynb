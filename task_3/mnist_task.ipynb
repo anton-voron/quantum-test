{
 "cells": [
  {
   "cell_type": "code",
   "execution_count": 1,
   "metadata": {},
   "outputs": [
    {
     "name": "stdout",
     "output_type": "stream",
     "text": [
      "Updated Python path: ['/opt/anaconda3/envs/quantum_third_test_task_env/lib/python39.zip', '/opt/anaconda3/envs/quantum_third_test_task_env/lib/python3.9', '/opt/anaconda3/envs/quantum_third_test_task_env/lib/python3.9/lib-dynload', '', '/opt/anaconda3/envs/quantum_third_test_task_env/lib/python3.9/site-packages', '/opt/anaconda3/envs/quantum_third_test_task_env/lib/python3.9/site-packages/aeosa', '/Users/apple/Desktop/DS Engineer_Test Task/task_3']\n"
     ]
    }
   ],
   "source": [
    "import sys\n",
    "import os\n",
    "\n",
    "src_path = os.path.join(os.getcwd())\n",
    "\n",
    "if src_path not in sys.path:\n",
    "    sys.path.append(src_path)\n",
    "\n",
    "print(\"Updated Python path:\", sys.path)\n",
    "\n",
    "sys.dont_write_bytecode = True\n",
    "os.environ['PYTHONDONTWRITEBYTECODE'] = \"1\""
   ]
  },
  {
   "cell_type": "code",
   "execution_count": 2,
   "metadata": {},
   "outputs": [],
   "source": [
    "from models import CNNModel, RandModel, RFModel, SimpleCNN\n",
    "from digit_classifier import DigitClassifier"
   ]
  },
  {
   "cell_type": "code",
   "execution_count": 4,
   "metadata": {},
   "outputs": [
    {
     "name": "stdout",
     "output_type": "stream",
     "text": [
      "Epoch [1/10], Loss: 0.2100\n",
      "Accuracy of the model on the test images: 98.19%\n",
      "Epoch [2/10], Loss: 0.0587\n",
      "Accuracy of the model on the test images: 98.15%\n",
      "Epoch [3/10], Loss: 0.0398\n",
      "Accuracy of the model on the test images: 98.70%\n",
      "Epoch [4/10], Loss: 0.0306\n",
      "Accuracy of the model on the test images: 98.78%\n",
      "Epoch [5/10], Loss: 0.0235\n",
      "Accuracy of the model on the test images: 98.78%\n",
      "Epoch [6/10], Loss: 0.0175\n",
      "Accuracy of the model on the test images: 98.86%\n",
      "Epoch [7/10], Loss: 0.0149\n",
      "Accuracy of the model on the test images: 98.81%\n",
      "Epoch [8/10], Loss: 0.0107\n",
      "Accuracy of the model on the test images: 98.91%\n",
      "Epoch [9/10], Loss: 0.0097\n",
      "Accuracy of the model on the test images: 98.90%\n",
      "Epoch [10/10], Loss: 0.0091\n",
      "Accuracy of the model on the test images: 98.90%\n"
     ]
    }
   ],
   "source": [
    "import torch\n",
    "import torch.nn as nn\n",
    "import torch.optim as optim\n",
    "from torchvision import datasets, transforms\n",
    "from sklearn.model_selection import train_test_split\n",
    "from torch.utils.data import Subset\n",
    "import numpy as np\n",
    "\n",
    "\n",
    "transform = transforms.ToTensor()\n",
    "full_dataset = datasets.MNIST(root='./data', train=True, transform=transform, download=True)\n",
    "\n",
    "train_indices, test_indices = train_test_split(np.arange(len(full_dataset)), test_size=0.2, random_state=42)\n",
    "train_dataset = Subset(full_dataset, train_indices)\n",
    "test_dataset = Subset(full_dataset, test_indices)\n",
    "\n",
    "train_loader = torch.utils.data.DataLoader(dataset=train_dataset, batch_size=64, shuffle=True)\n",
    "test_loader = torch.utils.data.DataLoader(dataset=test_dataset, batch_size=64, shuffle=False)\n",
    "\n",
    "model = SimpleCNN()\n",
    "criterion = nn.CrossEntropyLoss()\n",
    "optimizer = optim.Adam(model.parameters(), lr=0.001)\n",
    "\n",
    "for epoch in range(1, 11):\n",
    "    model.train()\n",
    "    running_loss = 0.0\n",
    "    for i, (images, labels) in enumerate(train_loader):\n",
    "        optimizer.zero_grad()\n",
    "        outputs = model(images)\n",
    "        loss = criterion(outputs, labels)\n",
    "        loss.backward()\n",
    "        optimizer.step()\n",
    "        running_loss += loss.item()\n",
    "    \n",
    "    avg_loss = running_loss / len(train_loader)\n",
    "    print(f'Epoch [{epoch}/10], Loss: {avg_loss:.4f}')\n",
    "\n",
    "    model.eval()\n",
    "    correct = 0\n",
    "    total = 0\n",
    "    with torch.no_grad():\n",
    "        for images, labels in test_loader:\n",
    "            outputs = model(images)\n",
    "            _, predicted = torch.max(outputs.data, 1)\n",
    "            total += labels.size(0)\n",
    "            correct += (predicted == labels).sum().item()\n",
    "    \n",
    "    accuracy = 100 * correct / total\n",
    "    print(f'Accuracy of the model on the test images: {accuracy:.2f}%')\n",
    "\n",
    "    model_path = os.path.join(os.getcwd(), 'model_weights')\n",
    "    os.makedirs(model_path, exist_ok=True)\n",
    "    torch.save(model.state_dict(), f'{model_path}/cnn_model.pth')\n",
    "\n"
   ]
  },
  {
   "cell_type": "code",
   "execution_count": null,
   "metadata": {},
   "outputs": [],
   "source": [
    "import torch\n",
    "from torchvision import datasets, transforms\n",
    "from digit_classifier import DigitClassifier\n",
    "\n",
    "\n",
    "full_dataset = datasets.MNIST(root='./data', train=True, download=False)\n",
    "\n",
    "# Load a sample image (28x28) for testing\n",
    "# image = torch.rand(28, 28)  # Replace with actual MNIST image\n",
    "\n",
    "# # Test CNN Model\n",
    "# cnn_classifier = DigitClassifier('cnn')\n",
    "# cnn_prediction = cnn_classifier.predict(image)\n",
    "# print(f\"CNN Prediction: {cnn_prediction}\")\n",
    "\n"
   ]
  }
 ],
 "metadata": {
  "kernelspec": {
   "display_name": "quantum_third_test_task_env",
   "language": "python",
   "name": "python3"
  },
  "language_info": {
   "codemirror_mode": {
    "name": "ipython",
    "version": 3
   },
   "file_extension": ".py",
   "mimetype": "text/x-python",
   "name": "python",
   "nbconvert_exporter": "python",
   "pygments_lexer": "ipython3",
   "version": "3.9.19"
  }
 },
 "nbformat": 4,
 "nbformat_minor": 2
}
