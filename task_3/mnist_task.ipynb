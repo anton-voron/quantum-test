{
 "cells": [
  {
   "cell_type": "code",
   "execution_count": 1,
   "metadata": {},
   "outputs": [
    {
     "name": "stdout",
     "output_type": "stream",
     "text": [
      "Updated Python path: ['/opt/anaconda3/envs/quantum_third_test_task_env/lib/python39.zip', '/opt/anaconda3/envs/quantum_third_test_task_env/lib/python3.9', '/opt/anaconda3/envs/quantum_third_test_task_env/lib/python3.9/lib-dynload', '', '/opt/anaconda3/envs/quantum_third_test_task_env/lib/python3.9/site-packages', '/opt/anaconda3/envs/quantum_third_test_task_env/lib/python3.9/site-packages/aeosa', '/Users/apple/Desktop/DS Engineer_Test Task/task_3']\n"
     ]
    }
   ],
   "source": [
    "import sys\n",
    "import os\n",
    "\n",
    "src_path = os.path.join(os.getcwd())\n",
    "\n",
    "if src_path not in sys.path:\n",
    "    sys.path.append(src_path)\n",
    "\n",
    "print(\"Updated Python path:\", sys.path)\n",
    "\n",
    "sys.dont_write_bytecode = True\n",
    "os.environ['PYTHONDONTWRITEBYTECODE'] = \"1\""
   ]
  },
  {
   "cell_type": "code",
   "execution_count": 2,
   "metadata": {},
   "outputs": [],
   "source": [
    "from models import CNNModel, RandModel, RFModel, SimpleCNN\n",
    "from digit_classifier import DigitClassifier"
   ]
  },
  {
   "cell_type": "code",
   "execution_count": 4,
   "metadata": {},
   "outputs": [
    {
     "name": "stdout",
     "output_type": "stream",
     "text": [
      "Epoch [1/10], Loss: 0.2100\n",
      "Accuracy of the model on the test images: 98.19%\n",
      "Epoch [2/10], Loss: 0.0587\n",
      "Accuracy of the model on the test images: 98.15%\n",
      "Epoch [3/10], Loss: 0.0398\n",
      "Accuracy of the model on the test images: 98.70%\n",
      "Epoch [4/10], Loss: 0.0306\n",
      "Accuracy of the model on the test images: 98.78%\n",
      "Epoch [5/10], Loss: 0.0235\n",
      "Accuracy of the model on the test images: 98.78%\n",
      "Epoch [6/10], Loss: 0.0175\n",
      "Accuracy of the model on the test images: 98.86%\n",
      "Epoch [7/10], Loss: 0.0149\n",
      "Accuracy of the model on the test images: 98.81%\n",
      "Epoch [8/10], Loss: 0.0107\n",
      "Accuracy of the model on the test images: 98.91%\n",
      "Epoch [9/10], Loss: 0.0097\n",
      "Accuracy of the model on the test images: 98.90%\n",
      "Epoch [10/10], Loss: 0.0091\n",
      "Accuracy of the model on the test images: 98.90%\n"
     ]
    }
   ],
   "source": [
    "%run  train_cnn.py"
   ]
  },
  {
   "cell_type": "code",
   "execution_count": 17,
   "metadata": {},
   "outputs": [
    {
     "name": "stdout",
     "output_type": "stream",
     "text": [
      "Downloading http://yann.lecun.com/exdb/mnist/train-images-idx3-ubyte.gz\n",
      "Failed to download (trying next):\n",
      "HTTP Error 403: Forbidden\n",
      "\n",
      "Downloading https://ossci-datasets.s3.amazonaws.com/mnist/train-images-idx3-ubyte.gz\n",
      "Downloading https://ossci-datasets.s3.amazonaws.com/mnist/train-images-idx3-ubyte.gz to ./data/MNIST/raw/train-images-idx3-ubyte.gz\n"
     ]
    },
    {
     "data": {
      "application/vnd.jupyter.widget-view+json": {
       "model_id": "54bc3c16126f4f51afedd7609b874f3e",
       "version_major": 2,
       "version_minor": 0
      },
      "text/plain": [
       "  0%|          | 0/9912422 [00:00<?, ?it/s]"
      ]
     },
     "metadata": {},
     "output_type": "display_data"
    },
    {
     "name": "stdout",
     "output_type": "stream",
     "text": [
      "Extracting ./data/MNIST/raw/train-images-idx3-ubyte.gz to ./data/MNIST/raw\n",
      "\n",
      "Downloading http://yann.lecun.com/exdb/mnist/train-labels-idx1-ubyte.gz\n",
      "Failed to download (trying next):\n",
      "HTTP Error 403: Forbidden\n",
      "\n",
      "Downloading https://ossci-datasets.s3.amazonaws.com/mnist/train-labels-idx1-ubyte.gz\n",
      "Downloading https://ossci-datasets.s3.amazonaws.com/mnist/train-labels-idx1-ubyte.gz to ./data/MNIST/raw/train-labels-idx1-ubyte.gz\n"
     ]
    },
    {
     "data": {
      "application/vnd.jupyter.widget-view+json": {
       "model_id": "32d49e1c94074f0ab05a457dce2aeb7b",
       "version_major": 2,
       "version_minor": 0
      },
      "text/plain": [
       "  0%|          | 0/28881 [00:00<?, ?it/s]"
      ]
     },
     "metadata": {},
     "output_type": "display_data"
    },
    {
     "name": "stdout",
     "output_type": "stream",
     "text": [
      "Extracting ./data/MNIST/raw/train-labels-idx1-ubyte.gz to ./data/MNIST/raw\n",
      "\n",
      "Downloading http://yann.lecun.com/exdb/mnist/t10k-images-idx3-ubyte.gz\n",
      "Failed to download (trying next):\n",
      "HTTP Error 403: Forbidden\n",
      "\n",
      "Downloading https://ossci-datasets.s3.amazonaws.com/mnist/t10k-images-idx3-ubyte.gz\n",
      "Downloading https://ossci-datasets.s3.amazonaws.com/mnist/t10k-images-idx3-ubyte.gz to ./data/MNIST/raw/t10k-images-idx3-ubyte.gz\n"
     ]
    },
    {
     "data": {
      "application/vnd.jupyter.widget-view+json": {
       "model_id": "2db78bf7ee0b4f48baf933339c6b0ceb",
       "version_major": 2,
       "version_minor": 0
      },
      "text/plain": [
       "  0%|          | 0/1648877 [00:00<?, ?it/s]"
      ]
     },
     "metadata": {},
     "output_type": "display_data"
    },
    {
     "name": "stdout",
     "output_type": "stream",
     "text": [
      "Extracting ./data/MNIST/raw/t10k-images-idx3-ubyte.gz to ./data/MNIST/raw\n",
      "\n",
      "Downloading http://yann.lecun.com/exdb/mnist/t10k-labels-idx1-ubyte.gz\n",
      "Failed to download (trying next):\n",
      "HTTP Error 403: Forbidden\n",
      "\n",
      "Downloading https://ossci-datasets.s3.amazonaws.com/mnist/t10k-labels-idx1-ubyte.gz\n",
      "Downloading https://ossci-datasets.s3.amazonaws.com/mnist/t10k-labels-idx1-ubyte.gz to ./data/MNIST/raw/t10k-labels-idx1-ubyte.gz\n"
     ]
    },
    {
     "data": {
      "application/vnd.jupyter.widget-view+json": {
       "model_id": "3d30d5ab74ed4de2bf80aab69937ef86",
       "version_major": 2,
       "version_minor": 0
      },
      "text/plain": [
       "  0%|          | 0/4542 [00:00<?, ?it/s]"
      ]
     },
     "metadata": {},
     "output_type": "display_data"
    },
    {
     "name": "stdout",
     "output_type": "stream",
     "text": [
      "Extracting ./data/MNIST/raw/t10k-labels-idx1-ubyte.gz to ./data/MNIST/raw\n",
      "\n",
      "Random Forest Model Accuracy: 0.9676\n",
      "Model saved at /Users/apple/Desktop/DS Engineer_Test Task/task_3/model_weights/rf_model.pkl\n"
     ]
    }
   ],
   "source": [
    "%run  train_random_forest.py"
   ]
  },
  {
   "cell_type": "code",
   "execution_count": 5,
   "metadata": {},
   "outputs": [
    {
     "name": "stdout",
     "output_type": "stream",
     "text": [
      "Image shape: torch.Size([28, 28]), Label: 5\n",
      "Loaded CNN model weights\n",
      "CNN Prediction: 5\n",
      "Loaded RandomForest model weights\n",
      "RF Prediction: 5\n",
      "Random Model Prediction: 2\n"
     ]
    }
   ],
   "source": [
    "import torch\n",
    "from torchvision import datasets, transforms\n",
    "from digit_classifier import DigitClassifier\n",
    "import random\n",
    "\n",
    "\n",
    "transform = transforms.ToTensor()\n",
    "full_dataset = datasets.MNIST(root='./data', train=True, transform=transform, download=True)\n",
    "random_idx = random.randint(0, len(full_dataset))\n",
    "\n",
    "images = full_dataset.data\n",
    "labels = full_dataset.targets\n",
    "\n",
    "image = images[random_idx]\n",
    "label = labels[random_idx]\n",
    "print(f\"Image shape: {image.size()}, Label: {label}\")\n",
    "\n",
    "\n",
    "cnn_classifier = DigitClassifier('cnn')\n",
    "cnn_prediction = cnn_classifier.predict(image)\n",
    "print(f\"CNN Prediction: {cnn_prediction}\")\n",
    "\n",
    "\n",
    "rf_classifier = DigitClassifier('rf')\n",
    "rf_prediction = rf_classifier.predict(image.reshape(1, -1))\n",
    "print(f\"RF Prediction: {rf_prediction}\")\n",
    "\n",
    "\n",
    "rand_classifier = DigitClassifier('rand')\n",
    "rand_prediction = rand_classifier.predict(image)\n",
    "print(f\"Random Model Prediction: {rand_prediction}\")"
   ]
  }
 ],
 "metadata": {
  "kernelspec": {
   "display_name": "quantum_third_test_task_env",
   "language": "python",
   "name": "python3"
  },
  "language_info": {
   "codemirror_mode": {
    "name": "ipython",
    "version": 3
   },
   "file_extension": ".py",
   "mimetype": "text/x-python",
   "name": "python",
   "nbconvert_exporter": "python",
   "pygments_lexer": "ipython3",
   "version": "3.9.19"
  }
 },
 "nbformat": 4,
 "nbformat_minor": 2
}
